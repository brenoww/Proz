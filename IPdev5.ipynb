{
 "cells": [
  {
   "cell_type": "markdown",
   "metadata": {},
   "source": [
    "Faça uma função calculadora que os números e as operações serão feitas pelo usuário. O código deve ficar rodando infinitamente até que o usuário escolha a opção de sair. No início, o programa mostrará a seguinte lista de operações:\n",
    "\n",
    "1: Soma\n",
    "2: Subtração\n",
    "3: Multiplicação\n",
    "4: Divisão\n",
    "0: Sair\n",
    "\n",
    "Digite o número para a operação correspondente e caso o usuário introduza qualquer outro, o sistema deve mostrar a mensagem “Essa opção não existe” e voltar ao menu de opções.\n",
    "\n",
    "Após a seleção, o sistema deve pedir para o usuário inserir o primeiro e segundo valor, um de cada. Depois precisa executar a operação e mostrar o resultado na tela. Quando o usuário escolher a opção “Sair”, o sistema irá parar.\n",
    "\n",
    "É necessário que o sistema mostre as opções sempre que finalizar uma operação e mostrar o resultado."
   ]
  },
  {
   "cell_type": "code",
   "execution_count": null,
   "metadata": {},
   "outputs": [],
   "source": [
    "print(\"CALCULADORA \\n\");\n",
    "\n",
    "operacao = input(\"Escolha uma das operações abaixo para calcular:\\n\\n1: Soma\\n2: Subtração\\n3: Multiplicação\\n4: Divisão\\n\\nCaso deseje sair:\\n\\n0: SAIR\\n\");\n",
    "\n",
    "while(operacao != 0):\n",
    "    \n",
    "    operacao = str(operacao)\n",
    "    if(operacao.isdigit()): operacao = int(operacao)\n",
    "\n",
    "    if operacao in [0,1,2,3,4]:\n",
    "\n",
    "        if(operacao == 0):\n",
    "            print(\"Saindo...\") \n",
    "            continue;\n",
    "\n",
    "        num1 = input(\"Informe o primeiro número\\n\")\n",
    "        num2 = input(\"Informe o segundo número\\n\")\n",
    "\n",
    "        if(num1.replace(\".\",\"\").isnumeric() and num2.replace(\".\",\"\").isnumeric()):\n",
    "            num1 = float(num1)\n",
    "            num2 = float(num2)\n",
    "        else:\n",
    "            print(\"Insira números válidos.\");\n",
    "            continue;\n",
    "\n",
    "        if(operacao == 1):\n",
    "            res = num1 + num2;\n",
    "            print(\"1: Soma\")\n",
    "        elif(operacao == 2):\n",
    "            res = num1 - num2;\n",
    "            print(\"2: Subtração\")\n",
    "        elif(operacao == 3):\n",
    "            res = num1 * num2;\n",
    "            print(\"3: Multiplicação\")\n",
    "        elif(operacao == 4):\n",
    "            res = num1 / num2\n",
    "            print(\"4: Divisão\")\n",
    "                \n",
    "        print(\"\\nResultado: %.2f\\n\\n\" % res)        \n",
    "    else: \n",
    "        print(\"Essa opção não existe.\");\n",
    "    \n",
    "    input(\"Pressione 'Enter' para continuar...\\n\")\n",
    "\n",
    "    operacao = input(\"Qual operação deseja executar?\\n\\n1: Soma\\n2: Subtração\\n3: Multiplicação\\n4: Divisão\\n\\nCaso deseje sair:\\n\\n0: SAIR\\n\")"
   ]
  }
 ],
 "metadata": {
  "kernelspec": {
   "display_name": "Python 3",
   "language": "python",
   "name": "python3"
  },
  "language_info": {
   "codemirror_mode": {
    "name": "ipython",
    "version": 3
   },
   "file_extension": ".py",
   "mimetype": "text/x-python",
   "name": "python",
   "nbconvert_exporter": "python",
   "pygments_lexer": "ipython3",
   "version": "3.11.7"
  }
 },
 "nbformat": 4,
 "nbformat_minor": 2
}
